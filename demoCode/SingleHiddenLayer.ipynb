{
 "cells": [
  {
   "cell_type": "markdown",
   "metadata": {
    "slideshow": {
     "slide_type": "slide"
    }
   },
   "source": [
    "# Implementing a one-layer Neural Network\n",
    "\n",
    "\n",
    "We will illustrate how to create a one hidden layer NN\n",
    "\n",
    "We will use the iris data for this exercise\n",
    "\n",
    "We will build a one-hidden layer neural network  to predict the fourth attribute, Petal Width from the other three (Sepal length, Sepal width, Petal length)."
   ]
  },
  {
   "cell_type": "code",
   "execution_count": 1,
   "metadata": {
    "collapsed": true,
    "slideshow": {
     "slide_type": "slide"
    }
   },
   "outputs": [],
   "source": [
    "# 引用套件\n",
    "import matplotlib.pyplot as plt\n",
    "import numpy as np\n",
    "import tensorflow as tf\n",
    "from sklearn import datasets\n",
    "from tensorflow.python.framework import ops"
   ]
  },
  {
   "cell_type": "code",
   "execution_count": 2,
   "metadata": {
    "collapsed": true,
    "slideshow": {
     "slide_type": "skip"
    }
   },
   "outputs": [],
   "source": [
    "# tensorflow 在生產環境下，需要將 default graph 重新初始化，以保證內存中沒有其他的 Graph\n",
    "# 或者是用在每個session之後清理相應的 graph\n",
    "ops.reset_default_graph()"
   ]
  },
  {
   "cell_type": "code",
   "execution_count": 3,
   "metadata": {
    "collapsed": true
   },
   "outputs": [],
   "source": [
    "iris = datasets.load_iris()\n",
    "\n",
    "#將每個iris.data中的資料取陣列中第0個到第2個值做為x_vals\n",
    "x_vals = np.array([x[0:3] for x in iris.data])\n",
    "#將每個iris.data中的資料取陣列中第3個值做為y_vals\n",
    "y_vals = np.array([x[3] for x in iris.data])"
   ]
  },
  {
   "cell_type": "code",
   "execution_count": 4,
   "metadata": {
    "collapsed": true,
    "slideshow": {
     "slide_type": "-"
    }
   },
   "outputs": [],
   "source": [
    "# Create graph session \n",
    "sess = tf.Session()"
   ]
  },
  {
   "cell_type": "code",
   "execution_count": 5,
   "metadata": {
    "collapsed": true
   },
   "outputs": [],
   "source": [
    "# make results reproducible\n",
    "#設置seed增加隨機性\n",
    "seed = 2\n",
    "tf.set_random_seed(seed)\n",
    "np.random.seed(seed)  "
   ]
  },
  {
   "cell_type": "code",
   "execution_count": 6,
   "metadata": {},
   "outputs": [
    {
     "name": "stdout",
     "output_type": "stream",
     "text": [
      "[  6   3 113  12  24 129  25 108 128  45  48  42  35   5  85  54  41  96\n",
      " 144  89  77  74 115  94  87  29   2 127  44 125 126  23  64 117  84  14\n",
      " 132  91  53 141  78  97 143  93  11 134  28  65   0  27  36 106 148 131\n",
      "  20 140 136 105 119  13  30 101  99  59 135 123  71  21  55  16 114  92\n",
      "  98  18  81  61  86 122   1  56  19  82 120   9  60  34  40  10 112 100\n",
      "  26  32 146 118  62 109  57  73 147  17 130 149 111   8 121  39  49  79\n",
      " 139  90 133  50  76 110  52  80  66 138  83 142]\n",
      "[  4   7 137  15 145  22  31  33  37  38  43  46  47  51  58  63  67  68\n",
      "  69  70  72  75  88  95 102 103 104 107 116 124]\n"
     ]
    }
   ],
   "source": [
    "# Split data into train/test = 80%/20%\n",
    "\n",
    "# train_indices為從0-len(x_vals)的陣列中取出其中80%的值\n",
    "train_indices = np.random.choice(len(x_vals), round(len(x_vals)*0.8), replace=False)\n",
    "print(train_indices)\n",
    "\n",
    "# test_indices為剩下20%的值\n",
    "test_indices = np.array(list(set(range(len(x_vals))) - set(train_indices)))\n",
    "print(test_indices)\n",
    "\n",
    "#拿train_indices(索引)取出做為train data的x_vals與y_vals，\n",
    "x_vals_train = x_vals[train_indices]\n",
    "y_vals_train = y_vals[train_indices]\n",
    "\n",
    "#拿test_indices取出做為test data的x_vals與y_vals\n",
    "x_vals_test = x_vals[test_indices]\n",
    "y_vals_test = y_vals[test_indices]"
   ]
  },
  {
   "cell_type": "code",
   "execution_count": 7,
   "metadata": {},
   "outputs": [
    {
     "name": "stdout",
     "output_type": "stream",
     "text": [
      "x_vals_train\n",
      "[[ 0.08333333  0.66666667  0.05172414]\n",
      " [ 0.08333333  0.52380952  0.06896552]\n",
      " [ 0.38888889  0.23809524  0.67241379]\n",
      " [ 0.13888889  0.47619048  0.05172414]\n",
      " [ 0.13888889  0.66666667  0.13793103]\n",
      " [ 0.80555556  0.47619048  0.81034483]\n",
      " [ 0.19444444  0.47619048  0.0862069 ]\n",
      " [ 0.66666667  0.23809524  0.81034483]\n",
      " [ 0.58333333  0.38095238  0.77586207]\n",
      " [ 0.13888889  0.47619048  0.05172414]\n",
      " [ 0.27777778  0.80952381  0.06896552]\n",
      " [ 0.02777778  0.57142857  0.03448276]\n",
      " [ 0.19444444  0.57142857  0.01724138]\n",
      " [ 0.30555556  0.9047619   0.10344828]\n",
      " [ 0.47222222  0.66666667  0.5862069 ]\n",
      " [ 0.61111111  0.38095238  0.60344828]\n",
      " [ 0.05555556  0.14285714  0.03448276]\n",
      " [ 0.38888889  0.42857143  0.53448276]\n",
      " [ 0.66666667  0.61904762  0.79310345]\n",
      " [ 0.33333333  0.23809524  0.5       ]\n",
      " [ 0.66666667  0.47619048  0.67241379]\n",
      " [ 0.58333333  0.42857143  0.55172414]\n",
      " [ 0.58333333  0.57142857  0.72413793]\n",
      " [ 0.36111111  0.33333333  0.53448276]\n",
      " [ 0.55555556  0.14285714  0.56896552]\n",
      " [ 0.11111111  0.57142857  0.0862069 ]\n",
      " [ 0.11111111  0.57142857  0.03448276]\n",
      " [ 0.5         0.47619048  0.65517241]\n",
      " [ 0.22222222  0.85714286  0.13793103]\n",
      " [ 0.80555556  0.57142857  0.84482759]\n",
      " [ 0.52777778  0.38095238  0.63793103]\n",
      " [ 0.22222222  0.61904762  0.10344828]\n",
      " [ 0.36111111  0.42857143  0.43103448]\n",
      " [ 0.94444444  0.85714286  0.96551724]\n",
      " [ 0.30555556  0.47619048  0.5862069 ]\n",
      " [ 0.41666667  0.95238095  0.01724138]\n",
      " [ 0.58333333  0.38095238  0.77586207]\n",
      " [ 0.5         0.47619048  0.60344828]\n",
      " [ 0.33333333  0.14285714  0.5       ]\n",
      " [ 0.72222222  0.52380952  0.68965517]\n",
      " [ 0.47222222  0.42857143  0.5862069 ]\n",
      " [ 0.52777778  0.42857143  0.55172414]\n",
      " [ 0.69444444  0.57142857  0.82758621]\n",
      " [ 0.19444444  0.14285714  0.37931034]\n",
      " [ 0.13888889  0.66666667  0.0862069 ]\n",
      " [ 0.5         0.28571429  0.77586207]\n",
      " [ 0.25        0.66666667  0.05172414]\n",
      " [ 0.66666667  0.52380952  0.56896552]\n",
      " [ 0.22222222  0.71428571  0.05172414]\n",
      " [ 0.25        0.71428571  0.06896552]\n",
      " [ 0.33333333  0.71428571  0.03448276]\n",
      " [ 0.16666667  0.23809524  0.5862069 ]\n",
      " [ 0.52777778  0.66666667  0.74137931]\n",
      " [ 1.          0.85714286  0.9137931 ]\n",
      " [ 0.30555556  0.66666667  0.10344828]\n",
      " [ 0.66666667  0.52380952  0.77586207]\n",
      " [ 0.55555556  0.66666667  0.77586207]\n",
      " [ 0.91666667  0.47619048  0.94827586]\n",
      " [ 0.47222222  0.0952381   0.67241379]\n",
      " [ 0.          0.47619048  0.        ]\n",
      " [ 0.13888889  0.52380952  0.0862069 ]\n",
      " [ 0.41666667  0.33333333  0.68965517]\n",
      " [ 0.38888889  0.38095238  0.51724138]\n",
      " [ 0.25        0.33333333  0.48275862]\n",
      " [ 0.94444444  0.47619048  0.86206897]\n",
      " [ 0.55555556  0.33333333  0.65517241]\n",
      " [ 0.5         0.38095238  0.5       ]\n",
      " [ 0.22222222  0.80952381  0.06896552]\n",
      " [ 0.38888889  0.38095238  0.5862069 ]\n",
      " [ 0.30555556  0.9047619   0.03448276]\n",
      " [ 0.41666667  0.38095238  0.68965517]\n",
      " [ 0.41666667  0.28571429  0.5       ]\n",
      " [ 0.22222222  0.23809524  0.32758621]\n",
      " [ 0.38888889  0.85714286  0.10344828]\n",
      " [ 0.33333333  0.19047619  0.44827586]\n",
      " [ 0.44444444  0.47619048  0.53448276]\n",
      " [ 0.66666667  0.52380952  0.62068966]\n",
      " [ 0.94444444  0.38095238  0.96551724]\n",
      " [ 0.16666667  0.47619048  0.05172414]\n",
      " [ 0.55555556  0.61904762  0.62068966]\n",
      " [ 0.22222222  0.85714286  0.06896552]\n",
      " [ 0.41666667  0.33333333  0.48275862]\n",
      " [ 0.72222222  0.57142857  0.79310345]\n",
      " [ 0.16666667  0.52380952  0.06896552]\n",
      " [ 0.19444444  0.          0.4137931 ]\n",
      " [ 0.16666667  0.52380952  0.06896552]\n",
      " [ 0.19444444  0.71428571  0.03448276]\n",
      " [ 0.30555556  0.80952381  0.06896552]\n",
      " [ 0.69444444  0.47619048  0.75862069]\n",
      " [ 0.55555556  0.61904762  0.84482759]\n",
      " [ 0.19444444  0.66666667  0.0862069 ]\n",
      " [ 0.25        1.          0.06896552]\n",
      " [ 0.55555556  0.23809524  0.67241379]\n",
      " [ 0.94444444  0.28571429  1.        ]\n",
      " [ 0.47222222  0.0952381   0.5       ]\n",
      " [ 0.80555556  0.76190476  0.86206897]\n",
      " [ 0.16666667  0.19047619  0.37931034]\n",
      " [ 0.5         0.38095238  0.62068966]\n",
      " [ 0.61111111  0.47619048  0.70689655]\n",
      " [ 0.22222222  0.71428571  0.05172414]\n",
      " [ 0.86111111  0.38095238  0.86206897]\n",
      " [ 0.44444444  0.47619048  0.68965517]\n",
      " [ 0.58333333  0.33333333  0.72413793]\n",
      " [ 0.02777778  0.42857143  0.05172414]\n",
      " [ 0.36111111  0.38095238  0.65517241]\n",
      " [ 0.22222222  0.66666667  0.06896552]\n",
      " [ 0.19444444  0.61904762  0.05172414]\n",
      " [ 0.38888889  0.28571429  0.4137931 ]\n",
      " [ 0.72222222  0.52380952  0.74137931]\n",
      " [ 0.33333333  0.28571429  0.56896552]\n",
      " [ 0.55555556  0.38095238  0.68965517]\n",
      " [ 0.75        0.57142857  0.62068966]\n",
      " [ 0.69444444  0.38095238  0.63793103]\n",
      " [ 0.61111111  0.57142857  0.68965517]\n",
      " [ 0.72222222  0.52380952  0.65517241]\n",
      " [ 0.33333333  0.19047619  0.46551724]\n",
      " [ 0.36111111  0.47619048  0.5862069 ]\n",
      " [ 0.47222222  0.47619048  0.63793103]\n",
      " [ 0.47222222  0.33333333  0.68965517]\n",
      " [ 0.41666667  0.33333333  0.68965517]]\n",
      "x_vals_test\n",
      "[[ 0.20689655  0.63636364  0.0754717 ]\n",
      " [ 0.20689655  0.54545455  0.09433962]\n",
      " [ 0.68965517  0.40909091  0.8490566 ]\n",
      " [ 0.44827586  1.          0.09433962]\n",
      " [ 0.79310345  0.36363636  0.79245283]\n",
      " [ 0.06896552  0.63636364  0.        ]\n",
      " [ 0.34482759  0.54545455  0.09433962]\n",
      " [ 0.37931034  0.90909091  0.0754717 ]\n",
      " [ 0.17241379  0.40909091  0.09433962]\n",
      " [ 0.          0.36363636  0.05660377]\n",
      " [ 0.20689655  0.59090909  0.11320755]\n",
      " [ 0.24137931  0.72727273  0.11320755]\n",
      " [ 0.06896552  0.45454545  0.0754717 ]\n",
      " [ 0.68965517  0.45454545  0.66037736]\n",
      " [ 0.75862069  0.31818182  0.67924528]\n",
      " [ 0.5862069   0.31818182  0.69811321]\n",
      " [ 0.48275862  0.22727273  0.58490566]\n",
      " [ 0.62068966  0.          0.66037736]\n",
      " [ 0.4137931   0.13636364  0.54716981]\n",
      " [ 0.51724138  0.45454545  0.71698113]\n",
      " [ 0.65517241  0.13636364  0.73584906]\n",
      " [ 0.75862069  0.36363636  0.64150943]\n",
      " [ 0.4137931   0.36363636  0.58490566]\n",
      " [ 0.44827586  0.36363636  0.60377358]\n",
      " [ 0.93103448  0.36363636  0.9245283 ]\n",
      " [ 0.65517241  0.31818182  0.86792453]\n",
      " [ 0.72413793  0.36363636  0.90566038]\n",
      " [ 1.          0.31818182  1.        ]\n",
      " [ 0.72413793  0.36363636  0.8490566 ]\n",
      " [ 0.79310345  0.5         0.88679245]]\n"
     ]
    }
   ],
   "source": [
    "# Normalize by column (min-max norm)\n",
    "# 使結果落在0-1之間\n",
    "def normalize_cols(m):\n",
    "    col_max = m.max(axis=0)\n",
    "    col_min = m.min(axis=0)\n",
    "    return (m-col_min) / (col_max - col_min)\n",
    "\n",
    "#對x_vals_train,x_vals_test中的值做 min-max normalization \n",
    "x_vals_train = np.nan_to_num(normalize_cols(x_vals_train))\n",
    "print(\"x_vals_train\")\n",
    "print(x_vals_train)\n",
    "x_vals_test = np.nan_to_num(normalize_cols(x_vals_test))\n",
    "print(\"x_vals_test\")\n",
    "print(x_vals_test)"
   ]
  },
  {
   "cell_type": "code",
   "execution_count": 8,
   "metadata": {
    "collapsed": true
   },
   "outputs": [],
   "source": [
    "# Initialize placeholders\n",
    "with tf.name_scope('Inputs'):\n",
    "    # Declare batch size\n",
    "    batch_size = 50\n",
    "    x_data = tf.placeholder(shape=[None, 3], dtype=tf.float32,name=\"x_data\")\n",
    "    y_target = tf.placeholder(shape=[None, 1], dtype=tf.float32,name=\"y_target\")\n",
    "    # Create variables for both NN layers\n",
    "    hidden_layer_nodes = 10\n",
    "    # hidden_layer_nodes = 10\n",
    "    A1 = tf.Variable(tf.random_normal(shape=[3,hidden_layer_nodes]),name=\"A1\") # inputs -> hidden nodes\n",
    "    b1 = tf.Variable(tf.random_normal(shape=[hidden_layer_nodes]),name=\"b1\")   # one biases for each hidden node\n",
    "    A2 = tf.Variable(tf.random_normal(shape=[hidden_layer_nodes,1]),name=\"A2\") # hidden inputs -> 1 output\n",
    "    b2 = tf.Variable(tf.random_normal(shape=[1]),name=\"b2\")   # one bias for the output"
   ]
  },
  {
   "cell_type": "code",
   "execution_count": 9,
   "metadata": {
    "collapsed": true
   },
   "outputs": [],
   "source": [
    "with tf.name_scope('Hidden_layer'):\n",
    "    # Declare model operations\n",
    "    # hidden_nodes = relu(x_data*A1+b1)\n",
    "    # size: x_data:50*3(50列3欄) A1:3*5 b1:1*5\n",
    "    hidden_output = tf.nn.relu(tf.add(tf.matmul(x_data, A1), b1))\n",
    "\n",
    "with tf.name_scope('Output_layer'):\n",
    "    # final_output = relu(hidden_nodes*A2+b2)\n",
    "    # size: hidden_output:50*5 A1:5*1 b2:1*1\n",
    "    final_output = tf.nn.relu(tf.add(tf.matmul(hidden_output, A2), b2))\n",
    "with tf.name_scope('Loss'):\n",
    "    # Declare loss function (MSE)\n",
    "    loss = tf.reduce_mean(tf.square(y_target - final_output))\n",
    "    tf.summary.scalar('SS', loss)\n",
    "\n",
    "\n",
    "with tf.name_scope('Train'):\n",
    "    # Declare optimizer\n",
    "    my_opt = tf.train.GradientDescentOptimizer(0.005)\n",
    "    train_step = my_opt.minimize(loss)"
   ]
  },
  {
   "cell_type": "code",
   "execution_count": 10,
   "metadata": {},
   "outputs": [
    {
     "name": "stdout",
     "output_type": "stream",
     "text": [
      "Training...\n",
      "Generation: 50. Loss = 0.527901\n",
      "Training...\n",
      "Generation: 100. Loss = 0.228715\n",
      "Training...\n",
      "Generation: 150. Loss = 0.179773\n",
      "Training...\n",
      "Generation: 200. Loss = 0.107899\n",
      "Training...\n",
      "Generation: 250. Loss = 0.240029\n",
      "Training...\n",
      "Generation: 300. Loss = 0.15324\n",
      "Training...\n",
      "Generation: 350. Loss = 0.165901\n",
      "Training...\n",
      "Generation: 400. Loss = 0.0957248\n",
      "Training...\n",
      "Generation: 450. Loss = 0.121014\n",
      "Training...\n",
      "Generation: 500. Loss = 0.129494\n"
     ]
    }
   ],
   "source": [
    "# Initialize variables\n",
    "init = tf.global_variables_initializer()\n",
    "sess.run(init)\n",
    "\n",
    "merged = tf.summary.merge_all()\n",
    "writer = tf.summary.FileWriter(\"SingleHiddenLayer/\", graph = sess.graph)\n",
    "\n",
    "# Training loop\n",
    "loss_vec = []\n",
    "test_loss = []\n",
    "for i in range(500):\n",
    "    \n",
    "    # Now we run the training step\n",
    "    # First we select a random set of indices for the batch.\n",
    "    # We then select the training values\n",
    "    # help tips\n",
    "    #print(y_vals_train[rand_index])\n",
    "    #print(rand_x.shape)\n",
    "    #print(rand_y.shape)\n",
    "    \n",
    "    rand_index = np.random.choice(len(x_vals_train), size=batch_size)\n",
    "    rand_x = x_vals_train[rand_index]\n",
    "    rand_y = np.transpose([y_vals_train[rand_index]])\n",
    "    sess.run(train_step, feed_dict={x_data: rand_x, y_target: rand_y})\n",
    "    \n",
    "    temp_loss = sess.run(loss, feed_dict={x_data: rand_x, y_target: rand_y})\n",
    "    loss_vec.append(np.sqrt(temp_loss))\n",
    "    \n",
    "    test_temp_loss = sess.run(loss, feed_dict={x_data: x_vals_test, y_target: np.transpose([y_vals_test])})\n",
    "    test_loss.append(np.sqrt(test_temp_loss))\n",
    "    \n",
    "    if (i+1)%50==0:\n",
    "        # print(sess.run(A1, feed_dict={x_data: rand_x, y_target: rand_y}))\n",
    "        print(\"Training...\")\n",
    "        print('Generation: ' + str(i+1) + '. Loss = ' + str(temp_loss))\n",
    "        sresult = sess.run(merged, feed_dict={x_data: rand_x, y_target: rand_y})\n",
    "        writer.add_summary(sresult, i)"
   ]
  },
  {
   "cell_type": "code",
   "execution_count": 11,
   "metadata": {},
   "outputs": [
    {
     "data": {
      "image/png": "[encoded data removed]",
      "text/plain": [
       "<matplotlib.figure.Figure at 0x7fe74e8bbc50>"
      ]
     },
     "metadata": {},
     "output_type": "display_data"
    }
   ],
   "source": [
    "%matplotlib inline\n",
    "# Plot loss (MSE) over time\n",
    "plt.plot(loss_vec, 'k-', label='Train Loss')\n",
    "plt.plot(test_loss, 'r--', label='Test Loss')\n",
    "plt.title('Loss (MSE) per Generation')\n",
    "plt.legend(loc='upper right')\n",
    "plt.xlabel('Generation')\n",
    "plt.ylabel('Loss')\n",
    "plt.show()"
   ]
  },
  {
   "cell_type": "code",
   "execution_count": null,
   "metadata": {
    "collapsed": true
   },
   "outputs": [],
   "source": []
  }
 ],
 "metadata": {
  "anaconda-cloud": {},
  "kernelspec": {
   "display_name": "Python 3",
   "language": "python",
   "name": "python3"
  },
  "language_info": {
   "codemirror_mode": {
    "name": "ipython",
    "version": 3
   },
   "file_extension": ".py",
   "mimetype": "text/x-python",
   "name": "python",
   "nbconvert_exporter": "python",
   "pygments_lexer": "ipython3",
   "version": "3.6.1"
  }
 },
 "nbformat": 4,
 "nbformat_minor": 2
}
