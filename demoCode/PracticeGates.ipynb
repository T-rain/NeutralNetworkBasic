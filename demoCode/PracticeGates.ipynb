{
 "cells": [
  {
   "cell_type": "markdown",
   "metadata": {},
   "source": [
    "# Implementing Gates\n",
    "\n",
    "This function shows how to implement various gates in TensorFlow.  \n",
    "One gate will be one operation with a variable and a placeholder.  \n",
    "We will ask TensorFlow to change the variable based on our loss function"
   ]
  },
  {
   "cell_type": "code",
   "execution_count": 1,
   "metadata": {
    "collapsed": true
   },
   "outputs": [],
   "source": [
    "import tensorflow as tf"
   ]
  },
  {
   "cell_type": "markdown",
   "metadata": {},
   "source": [
    "### Gate \n",
    "Create a multiplication gate: $f(x) = a * x$  \n",
    "Add a add gate: $f(x) = a * x + b$\n",
    "```\n",
    "  a --\n",
    "      |\n",
    "      |-- (multiply)--\n",
    "      |               |\n",
    "  x --                |-- (add) --> output\n",
    "                      |\n",
    "                  b --\n",
    "```"
   ]
  },
  {
   "cell_type": "code",
   "execution_count": 2,
   "metadata": {
    "collapsed": true
   },
   "outputs": [],
   "source": [
    "sess = tf.Session()\n",
    "with tf.name_scope('Weights'):\n",
    "    a = tf.Variable(tf.constant(1.), name = 'a')\n",
    "with tf.name_scope('Biases'):\n",
    "    b = tf.Variable(tf.constant(1.), name = 'b')\n",
    "with tf.name_scope('Inputs'):\n",
    "    x_val = 5.\n",
    "    x_data = tf.placeholder(dtype=tf.float32, name = 'x_data')\n",
    "with tf.name_scope('Two_gate_layer'):\n",
    "    two_gate = tf.add(tf.multiply(a, x_data), b)"
   ]
  },
  {
   "cell_type": "code",
   "execution_count": 3,
   "metadata": {
    "collapsed": true
   },
   "outputs": [],
   "source": [
    "# Declare optimizer(使用優化器找出loss值最小的)\n",
    "\n",
    "with tf.name_scope('Loss'):\n",
    "    loss = tf.square(tf.subtract(two_gate, 50.))\n",
    "    tf.summary.scalar('SS', loss)\n",
    "with tf.name_scope('Train'):\n",
    "    my_opt = tf.train.GradientDescentOptimizer(0.01)\n",
    "    train_step = my_opt.minimize(loss)"
   ]
  },
  {
   "cell_type": "code",
   "execution_count": 4,
   "metadata": {},
   "outputs": [
    {
     "name": "stdout",
     "output_type": "stream",
     "text": [
      "\n",
      "Optimizing Two Gate Output to 50.\n",
      "5.4 * 5.0 + 1.88 = 28.88\n",
      "7.512 * 5.0 + 2.3024 = 39.8624\n",
      "8.52576 * 5.0 + 2.50515 = 45.134\n",
      "9.01236 * 5.0 + 2.60247 = 47.6643\n",
      "9.24593 * 5.0 + 2.64919 = 48.8789\n",
      "9.35805 * 5.0 + 2.67161 = 49.4619\n",
      "9.41186 * 5.0 + 2.68237 = 49.7417\n",
      "9.43769 * 5.0 + 2.68754 = 49.876\n",
      "9.45009 * 5.0 + 2.69002 = 49.9405\n",
      "9.45605 * 5.0 + 2.69121 = 49.9714\n",
      "9.4589 * 5.0 + 2.69178 = 49.9863\n",
      "9.46027 * 5.0 + 2.69205 = 49.9934\n",
      "9.46093 * 5.0 + 2.69219 = 49.9968\n",
      "9.46125 * 5.0 + 2.69225 = 49.9985\n",
      "9.4614 * 5.0 + 2.69228 = 49.9993\n",
      "9.46147 * 5.0 + 2.69229 = 49.9996\n",
      "9.46151 * 5.0 + 2.6923 = 49.9998\n",
      "9.46152 * 5.0 + 2.6923 = 49.9999\n",
      "9.46153 * 5.0 + 2.69231 = 50.0\n",
      "9.46153 * 5.0 + 2.69231 = 50.0\n"
     ]
    }
   ],
   "source": [
    "# Initialize variables\n",
    "# 有定義 Variable 的話請初始化 Variable : global_variables_initializer\n",
    "init = tf.global_variables_initializer()\n",
    "sess.run(init)\n",
    "# Run loop across gate\n",
    "print('\\nOptimizing Two Gate Output to 50.')\n",
    "\n",
    "merged = tf.summary.merge_all()\n",
    "writer = tf.summary.FileWriter(\"PracticeGates/\", graph = sess.graph)\n",
    "for i in range(20):\n",
    "    sess.run(train_step, feed_dict={x_data: x_val})\n",
    "    a_val, b_val = (sess.run(a), sess.run(b))\n",
    "    two_gate_output = sess.run(two_gate, feed_dict={x_data: x_val})\n",
    "    print(str(a_val) + ' * ' + str(x_val) + ' + ' + str(b_val) + ' = ' + str(two_gate_output))\n",
    "    \n",
    "    if i % 2 == 0:\n",
    "        sresult = sess.run(merged, feed_dict={x_data: x_val})\n",
    "        writer.add_summary(sresult, i)\n",
    "sess.close()"
   ]
  }
 ],
 "metadata": {
  "kernelspec": {
   "display_name": "Python 3",
   "language": "python",
   "name": "python3"
  },
  "language_info": {
   "codemirror_mode": {
    "name": "ipython",
    "version": 3
   },
   "file_extension": ".py",
   "mimetype": "text/x-python",
   "name": "python",
   "nbconvert_exporter": "python",
   "pygments_lexer": "ipython3",
   "version": "3.6.1"
  }
 },
 "nbformat": 4,
 "nbformat_minor": 2
}
